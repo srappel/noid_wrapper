{
 "cells": [
  {
   "cell_type": "code",
   "execution_count": 11,
   "metadata": {},
   "outputs": [],
   "source": [
    "from noid_wrapper import noid_client\n",
    "client = noid_client.NoidClient(\"/home/srappel/noid_wrapper/config.yaml\")"
   ]
  },
  {
   "cell_type": "code",
   "execution_count": null,
   "metadata": {},
   "outputs": [],
   "source": [
    "# # ark = client.mint() # switch out with line below if you actually want to mint real ids\n",
    "# ark = \"77981/gmgs893277\"  # to avoid minting real ids during testing\n",
    "# print(f\"Minted ARK(s): {ark}\")\n",
    "\n",
    "# bind_param = (\"how\", \"python!\")\n",
    "\n",
    "# client.bind(ark, bind_param[0], bind_param[1])\n",
    "\n",
    "# bind_params = {\"where\": \"uwm.edu\", \"author\": \"Stephen\", \"date\": \"2024-10-15\"}\n",
    "\n",
    "# client.bind_multiple(ark, bind_params)\n",
    "\n",
    "# print(client.fetch(ark, elements=[\"where\", \"author\"]))\n",
    "\n",
    "# print(client.get(ark, [\"where\"]))  # elements= is optional\n",
    "# print(client.get(ark, elements=[\"how\"]))\n",
    "\n",
    "# client.validate(ark)\n",
    "# client.fetch(ark)"
   ]
  },
  {
   "cell_type": "code",
   "execution_count": null,
   "metadata": {},
   "outputs": [],
   "source": [
    "import os\n",
    "import json\n",
    "\n",
    "def extract_ark_from_json(json_data):\n",
    "    \"\"\"Extracts the ARK ID from JSON data.\"\"\"\n",
    "    return json_data.get(\"ark_id\")\n",
    "\n",
    "def process_metadata_files(base_dir):\n",
    "    \"\"\"Recursively processes metadata files in directories to extract ARK IDs.\"\"\"\n",
    "    ark_ids = []\n",
    "    for root, dirs, files in os.walk(base_dir):\n",
    "        for file in files:\n",
    "            if file.endswith(\".json\"):\n",
    "                file_path = os.path.join(root, file)\n",
    "                with open(file_path, 'r') as json_file:\n",
    "                    data = json.load(json_file)\n",
    "                    ark_id = extract_ark_from_json(data)\n",
    "                    if ark_id:\n",
    "                        ark_ids.append((ark_id, data))\n",
    "    return ark_ids\n"
   ]
  }
 ],
 "metadata": {
  "kernelspec": {
   "display_name": "venv",
   "language": "python",
   "name": "python3"
  },
  "language_info": {
   "codemirror_mode": {
    "name": "ipython",
    "version": 3
   },
   "file_extension": ".py",
   "mimetype": "text/x-python",
   "name": "python",
   "nbconvert_exporter": "python",
   "pygments_lexer": "ipython3",
   "version": "3.10.12"
  }
 },
 "nbformat": 4,
 "nbformat_minor": 2
}
