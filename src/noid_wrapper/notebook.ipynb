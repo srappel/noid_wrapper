{
 "cells": [
  {
   "cell_type": "code",
   "execution_count": 1,
   "metadata": {},
   "outputs": [],
   "source": [
    "from noid_wrapper import noid_client\n",
    "client = noid_client.NoidClient(\"/home/srappel/noid_wrapper/config.yaml\")"
   ]
  },
  {
   "cell_type": "code",
   "execution_count": 2,
   "metadata": {},
   "outputs": [],
   "source": [
    "from pathlib import Path\n",
    "import json\n",
    "\n",
    "def process_metadata_files(base_dir):\n",
    "    \"\"\"Recursively processes metadata files in directories to extract ARK IDs.\"\"\"\n",
    "    documents = []\n",
    "    base_path = Path(base_dir)\n",
    "    \n",
    "    for json_file in base_path.rglob(\"*.json\"):\n",
    "        with json_file.open('r') as file:\n",
    "            data = json.load(file)\n",
    "            ark_id = data.get(\"dct_identifier_sm\")\n",
    "            if ark_id:\n",
    "                documents.append((ark_id, data))\n",
    "    \n",
    "    return documents\n"
   ]
  },
  {
   "cell_type": "code",
   "execution_count": null,
   "metadata": {},
   "outputs": [],
   "source": [
    "target_dir = Path(\"/home/srappel/noid_wrapper/metadata\")\n",
    "target_documents = process_metadata_files(target_dir)\n",
    "\n",
    "i = 0\n",
    "for documnet in target_documents:\n",
    "    i += 1\n",
    "    print(i, documnet[0])\n",
    "    \n"
   ]
  },
  {
   "cell_type": "code",
   "execution_count": null,
   "metadata": {},
   "outputs": [],
   "source": [
    "rejects = []\n",
    "for document in target_documents:\n",
    "    noid_id = document[0][0].removeprefix(\"ark:/\")\n",
    "    \n",
    "    # Validate the ID\n",
    "    if not client.validate(noid_id):\n",
    "        rejects.append(noid_id)\n",
    "        continue\n",
    "\n",
    "    # Make a dict of the elements to be bound...\n",
    "    where_part = noid_id.replace(\"/\",\"-\")\n",
    "    where = f\"https://geodiscovery.uwm.edu/catalog/ark:-{where_part}\"\n",
    "    title = document[1].get(\"dct_title_s\", \"Untitled\")\n",
    "    permalink = f\"https://digilib.uwm.edu/ark:/{noid_id}\"\n",
    "\n",
    "    bind_params = {\n",
    "        \"where\": where,\n",
    "        \"title\": title,\n",
    "        \"permalink\": permalink\n",
    "    }\n",
    "\n",
    "    client._run_noid_command(\"hold\", \"set\", noid_id)\n",
    "\n",
    "    client.bind_multiple(noid_id, bind_params)\n",
    "\n",
    "    \n",
    "\n",
    "        \n"
   ]
  },
  {
   "cell_type": "code",
   "execution_count": null,
   "metadata": {},
   "outputs": [],
   "source": []
  }
 ],
 "metadata": {
  "kernelspec": {
   "display_name": "venv",
   "language": "python",
   "name": "python3"
  },
  "language_info": {
   "codemirror_mode": {
    "name": "ipython",
    "version": 3
   },
   "file_extension": ".py",
   "mimetype": "text/x-python",
   "name": "python",
   "nbconvert_exporter": "python",
   "pygments_lexer": "ipython3",
   "version": "3.10.12"
  }
 },
 "nbformat": 4,
 "nbformat_minor": 2
}
