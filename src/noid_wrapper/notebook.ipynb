{
 "cells": [
  {
   "cell_type": "code",
   "execution_count": 32,
   "metadata": {},
   "outputs": [],
   "source": [
    "from noid_wrapper import noid_client\n",
    "client = noid_client.NoidClient(\"/home/srappel/noid_wrapper/config.yaml\")"
   ]
  },
  {
   "cell_type": "code",
   "execution_count": 33,
   "metadata": {},
   "outputs": [],
   "source": [
    "from pathlib import Path\n",
    "import json\n",
    "\n",
    "def process_metadata_files(base_dir) -> list:\n",
    "    \"\"\"Recursively processes metadata files in directories to extract ARK IDs.\"\"\"\n",
    "    documents = []\n",
    "    base_path = Path(base_dir)\n",
    "    \n",
    "    for json_file in base_path.rglob(\"*.json\"):\n",
    "        with json_file.open('r') as file:\n",
    "            data = json.load(file)\n",
    "            ark_id = data.get(\"dct_identifier_sm\")\n",
    "            if ark_id:\n",
    "                documents.append((ark_id, data))\n",
    "    \n",
    "    return documents\n"
   ]
  },
  {
   "cell_type": "code",
   "execution_count": null,
   "metadata": {},
   "outputs": [],
   "source": [
    "target_dir = Path(\"/home/srappel/noid_wrapper/metadata\")\n",
    "target_documents = process_metadata_files(target_dir)\n",
    "\n",
    "i = 0\n",
    "for documnet in target_documents:\n",
    "    i += 1\n",
    "    print(i, documnet[0])\n",
    "    \n"
   ]
  },
  {
   "cell_type": "code",
   "execution_count": null,
   "metadata": {},
   "outputs": [],
   "source": [
    "rejects = []\n",
    "for document in target_documents:\n",
    "    noid_id = document[0][0].removeprefix(\"ark:/\")\n",
    "    \n",
    "    # Validate the ID\n",
    "    if not client.validate(noid_id):\n",
    "        rejects.append(noid_id)\n",
    "        continue\n",
    "\n",
    "    # Make a dict of the elements to be bound...\n",
    "    where_part = noid_id.replace(\"/\",\"-\")\n",
    "    where = f\"https://geodiscovery.uwm.edu/catalog/ark:-{where_part}\"\n",
    "    title = document[1].get(\"dct_title_s\", \"Untitled\")\n",
    "    permalink = f\"https://digilib.uwm.edu/ark:/{noid_id}\"\n",
    "\n",
    "    bind_params = {\n",
    "        \"where\": where,\n",
    "        \"title\": title,\n",
    "        \"permalink\": permalink\n",
    "    }\n",
    "\n",
    "    client._run_noid_command(\"hold\", \"set\", noid_id)\n",
    "\n",
    "    client.bind_multiple(noid_id, bind_params)\n",
    "\n",
    "    \n",
    "\n",
    "        \n"
   ]
  },
  {
   "cell_type": "code",
   "execution_count": 36,
   "metadata": {},
   "outputs": [],
   "source": [
    "param_map_agsl_aardvark = {\n",
    "    \"where\": \"dct_references_s\",\n",
    "    \"title\": \"dct_title_s\",\n",
    "    \"download\": \"dct_references_s\",\n",
    "    \"identifier\": \"dct_identifier_sm\",\n",
    "    \"ogm_aardvark_id\": \"id\",\n",
    "    \"access\": \"dct_accessRights_s\"\n",
    "}"
   ]
  },
  {
   "cell_type": "code",
   "execution_count": 39,
   "metadata": {},
   "outputs": [],
   "source": [
    "def bind_directory(dir, param_map, hold='set'):\n",
    "    bind_params = {}\n",
    "    documents = process_metadata_files(Path(dir))\n",
    "    assert isinstance(documents, list)\n",
    "\n",
    "    for document in target_documents:\n",
    "\n",
    "        identifier = document[0][0]\n",
    "        noid_id = identifier.removeprefix(\"ark:/\")\n",
    "        assert isinstance(noid_id, str)\n",
    "        assert client.validate(noid_id)\n",
    "\n",
    "        ogm_aardvark_id = document[1].get(param_map[\"ogm_aardvark_id\"], identifier.replace(\"/\", \"-\"))\n",
    "        \n",
    "        bind_params[\"identifier\"] = identifier\n",
    "        bind_params[\"ogm_aardvark_id\"] = ogm_aardvark_id\n",
    "        bind_params[\"title\"] = document[1].get(param_map[\"title\"], \"Untitled\")\n",
    "        bind_params[\"title\"] = document[1].get(param_map[\"access\"], \"Public\")\n",
    "\n",
    "        #references \n",
    "        references = json.loads(document[1].get(\"dct_references_s\", \"\"))\n",
    "                \n",
    "        bind_params[\"download\"] = references.get(\"http://schema.org/downloadUrl\", \"Null\")\n",
    "        bind_params[\"where\"] = references.get(\"http://schema.org/url\", \"Null\")\n",
    "\n",
    "        client.bind_multiple(noid_id, bind_params)\n",
    "\n"
   ]
  },
  {
   "cell_type": "code",
   "execution_count": null,
   "metadata": {},
   "outputs": [],
   "source": [
    "bind_directory(\"/home/srappel/noid_wrapper/metadata\", param_map_agsl_aardvark)"
   ]
  },
  {
   "cell_type": "code",
   "execution_count": null,
   "metadata": {},
   "outputs": [],
   "source": []
  }
 ],
 "metadata": {
  "kernelspec": {
   "display_name": "venv",
   "language": "python",
   "name": "python3"
  },
  "language_info": {
   "codemirror_mode": {
    "name": "ipython",
    "version": 3
   },
   "file_extension": ".py",
   "mimetype": "text/x-python",
   "name": "python",
   "nbconvert_exporter": "python",
   "pygments_lexer": "ipython3",
   "version": "3.10.12"
  }
 },
 "nbformat": 4,
 "nbformat_minor": 2
}
